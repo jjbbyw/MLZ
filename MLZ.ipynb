{
 "cells": [
  {
   "cell_type": "code",
   "execution_count": 1,
   "id": "38677631-3942-4c6c-9716-447ae4933e35",
   "metadata": {},
   "outputs": [],
   "source": [
    "import pandas as pd\n",
    "import seaborn as sns"
   ]
  },
  {
   "cell_type": "code",
   "execution_count": 43,
   "id": "0c8e5784-fa50-4a46-b18f-dbeb28b91ab9",
   "metadata": {},
   "outputs": [],
   "source": [
    "df = pd.read_spss(\"Pracbiss.sav\")\n",
    "\n",
    "df[\"gender\"] = df[\"gender_coded\"].apply(lambda x: \"male\" if x==1 else \"female\")\n",
    "df[\"change_BIS\"] = -df[\"change_BIS\"]"
   ]
  },
  {
   "cell_type": "code",
   "execution_count": null,
   "id": "da15234e-72ee-4869-8131-d7d5ea1e5177",
   "metadata": {},
   "outputs": [],
   "source": []
  },
  {
   "cell_type": "code",
   "execution_count": 52,
   "id": "43ab3d4a-c903-42b3-a5cc-a11c84df843d",
   "metadata": {
    "tags": []
   },
   "outputs": [
    {
     "data": {
      "text/plain": [
       "<AxesSubplot:xlabel='change_BIS', ylabel='gender'>"
      ]
     },
     "execution_count": 52,
     "metadata": {},
     "output_type": "execute_result"
    },
    {
     "data": {
      "image/png": "[encoded data removed]",
      "text/plain": [
       "<Figure size 432x288 with 1 Axes>"
      ]
     },
     "metadata": {},
     "output_type": "display_data"
    }
   ],
   "source": [
    "sns.set_style(\"darkgrid\")\n",
    "\n",
    "sns.boxplot(data=df, x=\"change_BIS\", y=\"gender\", orient=\"h\")\n"
   ]
  },
  {
   "cell_type": "code",
   "execution_count": 51,
   "id": "c6728b52-9750-4160-9ac2-5811f9cd673c",
   "metadata": {
    "tags": []
   },
   "outputs": [
    {
     "data": {
      "text/plain": [
       "<AxesSubplot:xlabel='BIS11.score', ylabel='BIS_visit2'>"
      ]
     },
     "execution_count": 51,
     "metadata": {},
     "output_type": "execute_result"
    },
    {
     "data": {
      "image/png": "[encoded data removed]",
      "text/plain": [
       "<Figure size 432x288 with 1 Axes>"
      ]
     },
     "metadata": {},
     "output_type": "display_data"
    }
   ],
   "source": [
    "sns.scatterplot(data=df, x=\"BIS11.score\", y=\"BIS_visit2\", hue=\"gender\")\n"
   ]
  },
  {
   "cell_type": "code",
   "execution_count": 49,
   "id": "cc09ffc0-c15e-48ae-a57a-8caf82cf0bb2",
   "metadata": {},
   "outputs": [
    {
     "data": {
      "text/html": [
       "<div>\n",
       "<style scoped>\n",
       "    .dataframe tbody tr th:only-of-type {\n",
       "        vertical-align: middle;\n",
       "    }\n",
       "\n",
       "    .dataframe tbody tr th {\n",
       "        vertical-align: top;\n",
       "    }\n",
       "\n",
       "    .dataframe thead th {\n",
       "        text-align: right;\n",
       "    }\n",
       "</style>\n",
       "<table border=\"1\" class=\"dataframe\">\n",
       "  <thead>\n",
       "    <tr style=\"text-align: right;\">\n",
       "      <th></th>\n",
       "      <th>gender_coded</th>\n",
       "      <th>Age.at.assessment</th>\n",
       "      <th>Disease_duration</th>\n",
       "      <th>MDS_UPRDS_Part_IIIMotorExam_Score</th>\n",
       "      <th>BIS11.score</th>\n",
       "      <th>BIS_visit2</th>\n",
       "      <th>change_BIS</th>\n",
       "      <th>BIS11.2nd.Attentional</th>\n",
       "      <th>BIS11.2nd.Motor</th>\n",
       "      <th>BIS11.2nd.Nonplanning</th>\n",
       "      <th>DRD2rs4245146</th>\n",
       "      <th>DRD1rs4532</th>\n",
       "      <th>COMTrs4680</th>\n",
       "      <th>DRD3rs6280</th>\n",
       "      <th>MAOB_rs10521432</th>\n",
       "      <th>gender</th>\n",
       "    </tr>\n",
       "  </thead>\n",
       "  <tbody>\n",
       "    <tr>\n",
       "      <th>0</th>\n",
       "      <td>1.0</td>\n",
       "      <td>66.0</td>\n",
       "      <td>9.0</td>\n",
       "      <td>3.0</td>\n",
       "      <td>30.0</td>\n",
       "      <td>66.0</td>\n",
       "      <td>36.0</td>\n",
       "      <td>8.0</td>\n",
       "      <td>11.0</td>\n",
       "      <td>11.0</td>\n",
       "      <td>1.0</td>\n",
       "      <td>2.0</td>\n",
       "      <td>1.0</td>\n",
       "      <td>1.0</td>\n",
       "      <td>1.0</td>\n",
       "      <td>male</td>\n",
       "    </tr>\n",
       "    <tr>\n",
       "      <th>1</th>\n",
       "      <td>1.0</td>\n",
       "      <td>59.0</td>\n",
       "      <td>5.0</td>\n",
       "      <td>9.0</td>\n",
       "      <td>43.0</td>\n",
       "      <td>68.0</td>\n",
       "      <td>25.0</td>\n",
       "      <td>9.0</td>\n",
       "      <td>16.0</td>\n",
       "      <td>18.0</td>\n",
       "      <td>2.0</td>\n",
       "      <td>1.0</td>\n",
       "      <td>2.0</td>\n",
       "      <td>3.0</td>\n",
       "      <td>1.0</td>\n",
       "      <td>male</td>\n",
       "    </tr>\n",
       "    <tr>\n",
       "      <th>2</th>\n",
       "      <td>2.0</td>\n",
       "      <td>60.0</td>\n",
       "      <td>9.0</td>\n",
       "      <td>12.0</td>\n",
       "      <td>56.0</td>\n",
       "      <td>79.0</td>\n",
       "      <td>23.0</td>\n",
       "      <td>18.0</td>\n",
       "      <td>22.0</td>\n",
       "      <td>19.0</td>\n",
       "      <td>2.0</td>\n",
       "      <td>2.0</td>\n",
       "      <td>2.0</td>\n",
       "      <td>3.0</td>\n",
       "      <td>2.0</td>\n",
       "      <td>female</td>\n",
       "    </tr>\n",
       "    <tr>\n",
       "      <th>3</th>\n",
       "      <td>2.0</td>\n",
       "      <td>59.0</td>\n",
       "      <td>8.0</td>\n",
       "      <td>19.0</td>\n",
       "      <td>64.0</td>\n",
       "      <td>87.0</td>\n",
       "      <td>23.0</td>\n",
       "      <td>12.0</td>\n",
       "      <td>23.0</td>\n",
       "      <td>21.0</td>\n",
       "      <td>2.0</td>\n",
       "      <td>1.0</td>\n",
       "      <td>1.0</td>\n",
       "      <td>1.0</td>\n",
       "      <td>1.0</td>\n",
       "      <td>female</td>\n",
       "    </tr>\n",
       "    <tr>\n",
       "      <th>4</th>\n",
       "      <td>1.0</td>\n",
       "      <td>56.0</td>\n",
       "      <td>1.0</td>\n",
       "      <td>8.0</td>\n",
       "      <td>56.0</td>\n",
       "      <td>78.0</td>\n",
       "      <td>22.0</td>\n",
       "      <td>18.0</td>\n",
       "      <td>22.0</td>\n",
       "      <td>16.0</td>\n",
       "      <td>2.0</td>\n",
       "      <td>2.0</td>\n",
       "      <td>2.0</td>\n",
       "      <td>2.0</td>\n",
       "      <td>1.0</td>\n",
       "      <td>male</td>\n",
       "    </tr>\n",
       "    <tr>\n",
       "      <th>...</th>\n",
       "      <td>...</td>\n",
       "      <td>...</td>\n",
       "      <td>...</td>\n",
       "      <td>...</td>\n",
       "      <td>...</td>\n",
       "      <td>...</td>\n",
       "      <td>...</td>\n",
       "      <td>...</td>\n",
       "      <td>...</td>\n",
       "      <td>...</td>\n",
       "      <td>...</td>\n",
       "      <td>...</td>\n",
       "      <td>...</td>\n",
       "      <td>...</td>\n",
       "      <td>...</td>\n",
       "      <td>...</td>\n",
       "    </tr>\n",
       "    <tr>\n",
       "      <th>65</th>\n",
       "      <td>1.0</td>\n",
       "      <td>59.0</td>\n",
       "      <td>3.0</td>\n",
       "      <td>8.0</td>\n",
       "      <td>85.0</td>\n",
       "      <td>70.0</td>\n",
       "      <td>-15.0</td>\n",
       "      <td>22.0</td>\n",
       "      <td>29.0</td>\n",
       "      <td>34.0</td>\n",
       "      <td>2.0</td>\n",
       "      <td>2.0</td>\n",
       "      <td>1.0</td>\n",
       "      <td>1.0</td>\n",
       "      <td>1.0</td>\n",
       "      <td>male</td>\n",
       "    </tr>\n",
       "    <tr>\n",
       "      <th>66</th>\n",
       "      <td>2.0</td>\n",
       "      <td>75.0</td>\n",
       "      <td>14.0</td>\n",
       "      <td>42.0</td>\n",
       "      <td>68.0</td>\n",
       "      <td>52.0</td>\n",
       "      <td>-16.0</td>\n",
       "      <td>17.0</td>\n",
       "      <td>14.0</td>\n",
       "      <td>37.0</td>\n",
       "      <td>3.0</td>\n",
       "      <td>2.0</td>\n",
       "      <td>2.0</td>\n",
       "      <td>2.0</td>\n",
       "      <td>2.0</td>\n",
       "      <td>female</td>\n",
       "    </tr>\n",
       "    <tr>\n",
       "      <th>67</th>\n",
       "      <td>1.0</td>\n",
       "      <td>28.0</td>\n",
       "      <td>2.0</td>\n",
       "      <td>8.0</td>\n",
       "      <td>67.0</td>\n",
       "      <td>44.0</td>\n",
       "      <td>-23.0</td>\n",
       "      <td>14.0</td>\n",
       "      <td>24.0</td>\n",
       "      <td>29.0</td>\n",
       "      <td>2.0</td>\n",
       "      <td>2.0</td>\n",
       "      <td>3.0</td>\n",
       "      <td>2.0</td>\n",
       "      <td>1.0</td>\n",
       "      <td>male</td>\n",
       "    </tr>\n",
       "    <tr>\n",
       "      <th>68</th>\n",
       "      <td>1.0</td>\n",
       "      <td>59.0</td>\n",
       "      <td>15.0</td>\n",
       "      <td>6.0</td>\n",
       "      <td>86.0</td>\n",
       "      <td>62.0</td>\n",
       "      <td>-24.0</td>\n",
       "      <td>16.0</td>\n",
       "      <td>30.0</td>\n",
       "      <td>36.0</td>\n",
       "      <td>2.0</td>\n",
       "      <td>2.0</td>\n",
       "      <td>3.0</td>\n",
       "      <td>2.0</td>\n",
       "      <td>1.0</td>\n",
       "      <td>male</td>\n",
       "    </tr>\n",
       "    <tr>\n",
       "      <th>69</th>\n",
       "      <td>1.0</td>\n",
       "      <td>67.0</td>\n",
       "      <td>6.0</td>\n",
       "      <td>17.0</td>\n",
       "      <td>90.0</td>\n",
       "      <td>55.0</td>\n",
       "      <td>-35.0</td>\n",
       "      <td>28.0</td>\n",
       "      <td>26.0</td>\n",
       "      <td>36.0</td>\n",
       "      <td>2.0</td>\n",
       "      <td>2.0</td>\n",
       "      <td>1.0</td>\n",
       "      <td>1.0</td>\n",
       "      <td>1.0</td>\n",
       "      <td>male</td>\n",
       "    </tr>\n",
       "  </tbody>\n",
       "</table>\n",
       "<p>70 rows × 16 columns</p>\n",
       "</div>"
      ],
      "text/plain": [
       "    gender_coded  Age.at.assessment  Disease_duration  \\\n",
       "0            1.0               66.0               9.0   \n",
       "1            1.0               59.0               5.0   \n",
       "2            2.0               60.0               9.0   \n",
       "3            2.0               59.0               8.0   \n",
       "4            1.0               56.0               1.0   \n",
       "..           ...                ...               ...   \n",
       "65           1.0               59.0               3.0   \n",
       "66           2.0               75.0              14.0   \n",
       "67           1.0               28.0               2.0   \n",
       "68           1.0               59.0              15.0   \n",
       "69           1.0               67.0               6.0   \n",
       "\n",
       "    MDS_UPRDS_Part_IIIMotorExam_Score  BIS11.score  BIS_visit2  change_BIS  \\\n",
       "0                                 3.0         30.0        66.0        36.0   \n",
       "1                                 9.0         43.0        68.0        25.0   \n",
       "2                                12.0         56.0        79.0        23.0   \n",
       "3                                19.0         64.0        87.0        23.0   \n",
       "4                                 8.0         56.0        78.0        22.0   \n",
       "..                                ...          ...         ...         ...   \n",
       "65                                8.0         85.0        70.0       -15.0   \n",
       "66                               42.0         68.0        52.0       -16.0   \n",
       "67                                8.0         67.0        44.0       -23.0   \n",
       "68                                6.0         86.0        62.0       -24.0   \n",
       "69                               17.0         90.0        55.0       -35.0   \n",
       "\n",
       "    BIS11.2nd.Attentional  BIS11.2nd.Motor  BIS11.2nd.Nonplanning  \\\n",
       "0                     8.0             11.0                   11.0   \n",
       "1                     9.0             16.0                   18.0   \n",
       "2                    18.0             22.0                   19.0   \n",
       "3                    12.0             23.0                   21.0   \n",
       "4                    18.0             22.0                   16.0   \n",
       "..                    ...              ...                    ...   \n",
       "65                   22.0             29.0                   34.0   \n",
       "66                   17.0             14.0                   37.0   \n",
       "67                   14.0             24.0                   29.0   \n",
       "68                   16.0             30.0                   36.0   \n",
       "69                   28.0             26.0                   36.0   \n",
       "\n",
       "    DRD2rs4245146  DRD1rs4532  COMTrs4680  DRD3rs6280  MAOB_rs10521432  gender  \n",
       "0             1.0         2.0         1.0         1.0              1.0    male  \n",
       "1             2.0         1.0         2.0         3.0              1.0    male  \n",
       "2             2.0         2.0         2.0         3.0              2.0  female  \n",
       "3             2.0         1.0         1.0         1.0              1.0  female  \n",
       "4             2.0         2.0         2.0         2.0              1.0    male  \n",
       "..            ...         ...         ...         ...              ...     ...  \n",
       "65            2.0         2.0         1.0         1.0              1.0    male  \n",
       "66            3.0         2.0         2.0         2.0              2.0  female  \n",
       "67            2.0         2.0         3.0         2.0              1.0    male  \n",
       "68            2.0         2.0         3.0         2.0              1.0    male  \n",
       "69            2.0         2.0         1.0         1.0              1.0    male  \n",
       "\n",
       "[70 rows x 16 columns]"
      ]
     },
     "execution_count": 49,
     "metadata": {},
     "output_type": "execute_result"
    }
   ],
   "source": [
    "df"
   ]
  },
  {
   "cell_type": "code",
   "execution_count": 26,
   "id": "27e32a06-daea-40e6-b2dc-e509747ffda6",
   "metadata": {},
   "outputs": [
    {
     "data": {
      "image/png": "[encoded data removed]",
      "text/plain": [
       "<Figure size 504x432 with 1 Axes>"
      ]
     },
     "metadata": {},
     "output_type": "display_data"
    }
   ],
   "source": [
    "import seaborn as sns\n",
    "import matplotlib.pyplot as plt\n",
    "\n",
    "sns.set_theme(style=\"ticks\")\n",
    "\n",
    "# Initialize the figure with a logarithmic x axis\n",
    "f, ax = plt.subplots(figsize=(7, 6))\n",
    "ax.set_xscale(\"log\")\n",
    "\n",
    "# Load the example planets dataset\n",
    "planets = sns.load_dataset(\"planets\")\n",
    "\n",
    "# Plot the orbital period with horizontal boxes\n",
    "sns.boxplot(x=\"distance\", y=\"method\", data=planets,\n",
    "            whis=[0, 100], width=.6, palette=\"vlag\")\n",
    "\n",
    "# Add in points to show each observation\n",
    "sns.stripplot(x=\"distance\", y=\"method\", data=planets,\n",
    "              size=4, color=\".3\", linewidth=0)\n",
    "\n",
    "# Tweak the visual presentation\n",
    "ax.xaxis.grid(True)\n",
    "ax.set(ylabel=\"\")\n",
    "sns.despine(trim=True, left=True)"
   ]
  },
  {
   "cell_type": "code",
   "execution_count": null,
   "id": "3cbf6bcd-9c5a-49c3-b322-56f8de2289f6",
   "metadata": {},
   "outputs": [],
   "source": [
    "import plotly.express as px\n",
    "\n",
    "fig = px.scatter(x=range(10), y=range(10), c=gender_coded)\n",
    "fig.write_html(\"file.html\")"
   ]
  },
  {
   "cell_type": "code",
   "execution_count": 21,
   "id": "805ee5a1-6bdf-45ee-b6f0-496b95da3f65",
   "metadata": {},
   "outputs": [],
   "source": [
    "df.to_excel(\"Pracbiss.xlsx\")  "
   ]
  },
  {
   "cell_type": "code",
   "execution_count": 21,
   "id": "1e7141d6-b045-4330-9e36-590f4927618e",
   "metadata": {},
   "outputs": [
    {
     "data": {
      "text/plain": [
       "<seaborn.axisgrid.FacetGrid at 0x210cd900850>"
      ]
     },
     "execution_count": 21,
     "metadata": {},
     "output_type": "execute_result"
    },
    {
     "data": {
      "image/png": "[encoded data removed]",
      "text/plain": [
       "<Figure size 440x216 with 2 Axes>"
      ]
     },
     "metadata": {
      "needs_background": "light"
     },
     "output_type": "display_data"
    }
   ],
   "source": [
    "g = sns.FacetGrid(df, col=\"gender_coded\")\n",
    "g.map(sns.scatterplot, \"Disease_duration\", \"change_BIS\", alpha=.7)\n",
    "g.add_legend()"
   ]
  },
  {
   "cell_type": "code",
   "execution_count": 5,
   "id": "cb07cbc9-e39e-4c94-a841-32c5f631d34d",
   "metadata": {},
   "outputs": [
    {
     "data": {
      "text/plain": [
       "'C:\\\\Users\\\\jbywo\\\\MLZ\\\\custom_filename.html'"
      ]
     },
     "execution_count": 5,
     "metadata": {},
     "output_type": "execute_result"
    }
   ],
   "source": [
    "from bokeh.plotting import figure, output_file, save\n",
    "\n",
    "# prepare some data\n",
    "x = [1, 2, 3, 4, 5]\n",
    "y = [4, 5, 5, 7, 2]\n",
    "\n",
    "# set output to static HTML file\n",
    "output_file(filename=\"custom_filename.html\", title=\"Static HTML file\")\n",
    "\n",
    "# create a new plot with a specific size\n",
    "p = figure(sizing_mode=\"stretch_width\", max_width=500, height=250)\n",
    "\n",
    "# add a circle renderer\n",
    "circle = p.circle(x, y, fill_color=\"red\", size=15)\n",
    "\n",
    "# save the results to a file\n",
    "save(p)"
   ]
  },
  {
   "cell_type": "code",
   "execution_count": null,
   "id": "a5541ac0-3e4b-43a7-842f-72ab11377cd7",
   "metadata": {},
   "outputs": [],
   "source": []
  }
 ],
 "metadata": {
  "kernelspec": {
   "display_name": "Python [conda env:py39]",
   "language": "python",
   "name": "conda-env-py39-py"
  },
  "language_info": {
   "codemirror_mode": {
    "name": "ipython",
    "version": 3
   },
   "file_extension": ".py",
   "mimetype": "text/x-python",
   "name": "python",
   "nbconvert_exporter": "python",
   "pygments_lexer": "ipython3",
   "version": "3.9.13"
  }
 },
 "nbformat": 4,
 "nbformat_minor": 5
}
